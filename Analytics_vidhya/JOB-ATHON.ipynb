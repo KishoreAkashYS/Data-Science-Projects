{
 "cells": [
  {
   "cell_type": "markdown",
   "id": "754bbcff",
   "metadata": {},
   "source": [
    "# JOB-ATHON"
   ]
  },
  {
   "cell_type": "code",
   "execution_count": 1,
   "id": "6a68f4ab",
   "metadata": {},
   "outputs": [],
   "source": [
    "import warnings\n",
    "warnings.filterwarnings(\"ignore\")"
   ]
  },
  {
   "cell_type": "code",
   "execution_count": 2,
   "id": "402c5096",
   "metadata": {},
   "outputs": [],
   "source": [
    "import pandas as pd\n",
    "import numpy as np\n",
    "import matplotlib.pyplot as plt\n",
    "import seaborn as sns"
   ]
  },
  {
   "cell_type": "code",
   "execution_count": 3,
   "id": "ed9a59bc",
   "metadata": {},
   "outputs": [],
   "source": [
    "df1 = pd.read_csv(\"TRAIN.csv\")\n",
    "df2 = pd.read_csv(\"TEST_FINAL.csv\")"
   ]
  },
  {
   "cell_type": "code",
   "execution_count": 4,
   "id": "f8de3f60",
   "metadata": {},
   "outputs": [
    {
     "data": {
      "text/html": [
       "<div>\n",
       "<style scoped>\n",
       "    .dataframe tbody tr th:only-of-type {\n",
       "        vertical-align: middle;\n",
       "    }\n",
       "\n",
       "    .dataframe tbody tr th {\n",
       "        vertical-align: top;\n",
       "    }\n",
       "\n",
       "    .dataframe thead th {\n",
       "        text-align: right;\n",
       "    }\n",
       "</style>\n",
       "<table border=\"1\" class=\"dataframe\">\n",
       "  <thead>\n",
       "    <tr style=\"text-align: right;\">\n",
       "      <th></th>\n",
       "      <th>ID</th>\n",
       "      <th>Store_id</th>\n",
       "      <th>Store_Type</th>\n",
       "      <th>Location_Type</th>\n",
       "      <th>Region_Code</th>\n",
       "      <th>Date</th>\n",
       "      <th>Holiday</th>\n",
       "      <th>Discount</th>\n",
       "      <th>#Order</th>\n",
       "      <th>Sales</th>\n",
       "    </tr>\n",
       "  </thead>\n",
       "  <tbody>\n",
       "    <tr>\n",
       "      <th>0</th>\n",
       "      <td>T1000001</td>\n",
       "      <td>1</td>\n",
       "      <td>S1</td>\n",
       "      <td>L3</td>\n",
       "      <td>R1</td>\n",
       "      <td>2018-01-01</td>\n",
       "      <td>1</td>\n",
       "      <td>Yes</td>\n",
       "      <td>9</td>\n",
       "      <td>7011.84</td>\n",
       "    </tr>\n",
       "    <tr>\n",
       "      <th>1</th>\n",
       "      <td>T1000002</td>\n",
       "      <td>253</td>\n",
       "      <td>S4</td>\n",
       "      <td>L2</td>\n",
       "      <td>R1</td>\n",
       "      <td>2018-01-01</td>\n",
       "      <td>1</td>\n",
       "      <td>Yes</td>\n",
       "      <td>60</td>\n",
       "      <td>51789.12</td>\n",
       "    </tr>\n",
       "    <tr>\n",
       "      <th>2</th>\n",
       "      <td>T1000003</td>\n",
       "      <td>252</td>\n",
       "      <td>S3</td>\n",
       "      <td>L2</td>\n",
       "      <td>R1</td>\n",
       "      <td>2018-01-01</td>\n",
       "      <td>1</td>\n",
       "      <td>Yes</td>\n",
       "      <td>42</td>\n",
       "      <td>36868.20</td>\n",
       "    </tr>\n",
       "    <tr>\n",
       "      <th>3</th>\n",
       "      <td>T1000004</td>\n",
       "      <td>251</td>\n",
       "      <td>S2</td>\n",
       "      <td>L3</td>\n",
       "      <td>R1</td>\n",
       "      <td>2018-01-01</td>\n",
       "      <td>1</td>\n",
       "      <td>Yes</td>\n",
       "      <td>23</td>\n",
       "      <td>19715.16</td>\n",
       "    </tr>\n",
       "    <tr>\n",
       "      <th>4</th>\n",
       "      <td>T1000005</td>\n",
       "      <td>250</td>\n",
       "      <td>S2</td>\n",
       "      <td>L3</td>\n",
       "      <td>R4</td>\n",
       "      <td>2018-01-01</td>\n",
       "      <td>1</td>\n",
       "      <td>Yes</td>\n",
       "      <td>62</td>\n",
       "      <td>45614.52</td>\n",
       "    </tr>\n",
       "  </tbody>\n",
       "</table>\n",
       "</div>"
      ],
      "text/plain": [
       "         ID  Store_id Store_Type Location_Type Region_Code        Date  \\\n",
       "0  T1000001         1         S1            L3          R1  2018-01-01   \n",
       "1  T1000002       253         S4            L2          R1  2018-01-01   \n",
       "2  T1000003       252         S3            L2          R1  2018-01-01   \n",
       "3  T1000004       251         S2            L3          R1  2018-01-01   \n",
       "4  T1000005       250         S2            L3          R4  2018-01-01   \n",
       "\n",
       "   Holiday Discount  #Order     Sales  \n",
       "0        1      Yes       9   7011.84  \n",
       "1        1      Yes      60  51789.12  \n",
       "2        1      Yes      42  36868.20  \n",
       "3        1      Yes      23  19715.16  \n",
       "4        1      Yes      62  45614.52  "
      ]
     },
     "execution_count": 4,
     "metadata": {},
     "output_type": "execute_result"
    }
   ],
   "source": [
    "df1.head()"
   ]
  },
  {
   "cell_type": "code",
   "execution_count": 5,
   "id": "603ed922",
   "metadata": {},
   "outputs": [
    {
     "data": {
      "text/html": [
       "<div>\n",
       "<style scoped>\n",
       "    .dataframe tbody tr th:only-of-type {\n",
       "        vertical-align: middle;\n",
       "    }\n",
       "\n",
       "    .dataframe tbody tr th {\n",
       "        vertical-align: top;\n",
       "    }\n",
       "\n",
       "    .dataframe thead th {\n",
       "        text-align: right;\n",
       "    }\n",
       "</style>\n",
       "<table border=\"1\" class=\"dataframe\">\n",
       "  <thead>\n",
       "    <tr style=\"text-align: right;\">\n",
       "      <th></th>\n",
       "      <th>ID</th>\n",
       "      <th>Store_id</th>\n",
       "      <th>Store_Type</th>\n",
       "      <th>Location_Type</th>\n",
       "      <th>Region_Code</th>\n",
       "      <th>Date</th>\n",
       "      <th>Holiday</th>\n",
       "      <th>Discount</th>\n",
       "    </tr>\n",
       "  </thead>\n",
       "  <tbody>\n",
       "    <tr>\n",
       "      <th>0</th>\n",
       "      <td>T1188341</td>\n",
       "      <td>171</td>\n",
       "      <td>S4</td>\n",
       "      <td>L2</td>\n",
       "      <td>R3</td>\n",
       "      <td>2019-06-01</td>\n",
       "      <td>0</td>\n",
       "      <td>No</td>\n",
       "    </tr>\n",
       "    <tr>\n",
       "      <th>1</th>\n",
       "      <td>T1188342</td>\n",
       "      <td>172</td>\n",
       "      <td>S1</td>\n",
       "      <td>L1</td>\n",
       "      <td>R1</td>\n",
       "      <td>2019-06-01</td>\n",
       "      <td>0</td>\n",
       "      <td>No</td>\n",
       "    </tr>\n",
       "    <tr>\n",
       "      <th>2</th>\n",
       "      <td>T1188343</td>\n",
       "      <td>173</td>\n",
       "      <td>S4</td>\n",
       "      <td>L2</td>\n",
       "      <td>R1</td>\n",
       "      <td>2019-06-01</td>\n",
       "      <td>0</td>\n",
       "      <td>No</td>\n",
       "    </tr>\n",
       "    <tr>\n",
       "      <th>3</th>\n",
       "      <td>T1188344</td>\n",
       "      <td>174</td>\n",
       "      <td>S1</td>\n",
       "      <td>L1</td>\n",
       "      <td>R4</td>\n",
       "      <td>2019-06-01</td>\n",
       "      <td>0</td>\n",
       "      <td>No</td>\n",
       "    </tr>\n",
       "    <tr>\n",
       "      <th>4</th>\n",
       "      <td>T1188345</td>\n",
       "      <td>170</td>\n",
       "      <td>S1</td>\n",
       "      <td>L1</td>\n",
       "      <td>R2</td>\n",
       "      <td>2019-06-01</td>\n",
       "      <td>0</td>\n",
       "      <td>No</td>\n",
       "    </tr>\n",
       "  </tbody>\n",
       "</table>\n",
       "</div>"
      ],
      "text/plain": [
       "         ID  Store_id Store_Type Location_Type Region_Code        Date  \\\n",
       "0  T1188341       171         S4            L2          R3  2019-06-01   \n",
       "1  T1188342       172         S1            L1          R1  2019-06-01   \n",
       "2  T1188343       173         S4            L2          R1  2019-06-01   \n",
       "3  T1188344       174         S1            L1          R4  2019-06-01   \n",
       "4  T1188345       170         S1            L1          R2  2019-06-01   \n",
       "\n",
       "   Holiday Discount  \n",
       "0        0       No  \n",
       "1        0       No  \n",
       "2        0       No  \n",
       "3        0       No  \n",
       "4        0       No  "
      ]
     },
     "execution_count": 5,
     "metadata": {},
     "output_type": "execute_result"
    }
   ],
   "source": [
    "df2.head()"
   ]
  },
  {
   "cell_type": "code",
   "execution_count": 6,
   "id": "e876eebb",
   "metadata": {},
   "outputs": [
    {
     "name": "stdout",
     "output_type": "stream",
     "text": [
      "<class 'pandas.core.frame.DataFrame'>\n",
      "RangeIndex: 188340 entries, 0 to 188339\n",
      "Data columns (total 10 columns):\n",
      " #   Column         Non-Null Count   Dtype  \n",
      "---  ------         --------------   -----  \n",
      " 0   ID             188340 non-null  object \n",
      " 1   Store_id       188340 non-null  int64  \n",
      " 2   Store_Type     188340 non-null  object \n",
      " 3   Location_Type  188340 non-null  object \n",
      " 4   Region_Code    188340 non-null  object \n",
      " 5   Date           188340 non-null  object \n",
      " 6   Holiday        188340 non-null  int64  \n",
      " 7   Discount       188340 non-null  object \n",
      " 8   #Order         188340 non-null  int64  \n",
      " 9   Sales          188340 non-null  float64\n",
      "dtypes: float64(1), int64(3), object(6)\n",
      "memory usage: 14.4+ MB\n"
     ]
    }
   ],
   "source": [
    "df1.info()"
   ]
  },
  {
   "cell_type": "code",
   "execution_count": 7,
   "id": "9343198b",
   "metadata": {},
   "outputs": [
    {
     "name": "stdout",
     "output_type": "stream",
     "text": [
      "<class 'pandas.core.frame.DataFrame'>\n",
      "RangeIndex: 22265 entries, 0 to 22264\n",
      "Data columns (total 8 columns):\n",
      " #   Column         Non-Null Count  Dtype \n",
      "---  ------         --------------  ----- \n",
      " 0   ID             22265 non-null  object\n",
      " 1   Store_id       22265 non-null  int64 \n",
      " 2   Store_Type     22265 non-null  object\n",
      " 3   Location_Type  22265 non-null  object\n",
      " 4   Region_Code    22265 non-null  object\n",
      " 5   Date           22265 non-null  object\n",
      " 6   Holiday        22265 non-null  int64 \n",
      " 7   Discount       22265 non-null  object\n",
      "dtypes: int64(2), object(6)\n",
      "memory usage: 1.4+ MB\n"
     ]
    }
   ],
   "source": [
    "df2.info()"
   ]
  },
  {
   "cell_type": "code",
   "execution_count": 8,
   "id": "d1ae80df",
   "metadata": {},
   "outputs": [
    {
     "data": {
      "text/plain": [
       "ID               0\n",
       "Store_id         0\n",
       "Store_Type       0\n",
       "Location_Type    0\n",
       "Region_Code      0\n",
       "Date             0\n",
       "Holiday          0\n",
       "Discount         0\n",
       "#Order           0\n",
       "Sales            0\n",
       "dtype: int64"
      ]
     },
     "execution_count": 8,
     "metadata": {},
     "output_type": "execute_result"
    }
   ],
   "source": [
    "df1.isnull().sum()"
   ]
  },
  {
   "cell_type": "code",
   "execution_count": 9,
   "id": "34279177",
   "metadata": {},
   "outputs": [
    {
     "data": {
      "text/plain": [
       "Index(['ID', 'Store_id', 'Store_Type', 'Location_Type', 'Region_Code', 'Date',\n",
       "       'Holiday', 'Discount', '#Order', 'Sales'],\n",
       "      dtype='object')"
      ]
     },
     "execution_count": 9,
     "metadata": {},
     "output_type": "execute_result"
    }
   ],
   "source": [
    "df1.columns"
   ]
  },
  {
   "cell_type": "code",
   "execution_count": 10,
   "id": "6a3ae0fd",
   "metadata": {},
   "outputs": [
    {
     "name": "stdout",
     "output_type": "stream",
     "text": [
      "The number of categotical variables is :  6\n",
      "The number of numerical variables is:  4\n"
     ]
    }
   ],
   "source": [
    "cat = df1.select_dtypes(include=np.object)\n",
    "print(\"The number of categotical variables is : \",cat.shape[1])\n",
    "num = df1.select_dtypes(include=(np.int64,np.float64))\n",
    "print(\"The number of numerical variables is: \",num.shape[1])"
   ]
  },
  {
   "cell_type": "code",
   "execution_count": 11,
   "id": "598da28f",
   "metadata": {},
   "outputs": [
    {
     "data": {
      "text/plain": [
       "ID               0\n",
       "Store_id         0\n",
       "Store_Type       0\n",
       "Location_Type    0\n",
       "Region_Code      0\n",
       "Date             0\n",
       "Holiday          0\n",
       "Discount         0\n",
       "dtype: int64"
      ]
     },
     "execution_count": 11,
     "metadata": {},
     "output_type": "execute_result"
    }
   ],
   "source": [
    "df2.isnull().sum()"
   ]
  },
  {
   "cell_type": "code",
   "execution_count": 12,
   "id": "86dbfd27",
   "metadata": {},
   "outputs": [
    {
     "data": {
      "text/plain": [
       "Index(['ID', 'Store_id', 'Store_Type', 'Location_Type', 'Region_Code', 'Date',\n",
       "       'Holiday', 'Discount'],\n",
       "      dtype='object')"
      ]
     },
     "execution_count": 12,
     "metadata": {},
     "output_type": "execute_result"
    }
   ],
   "source": [
    "df2.columns"
   ]
  },
  {
   "cell_type": "code",
   "execution_count": 13,
   "id": "ca861d74",
   "metadata": {},
   "outputs": [
    {
     "name": "stdout",
     "output_type": "stream",
     "text": [
      "The number of categotical variables is :  6\n",
      "The number of numerical variables is:  2\n"
     ]
    }
   ],
   "source": [
    "cat1 = df2.select_dtypes(include=np.object)\n",
    "print(\"The number of categotical variables is : \",cat1.shape[1])\n",
    "num1 = df2.select_dtypes(include=(np.int64,np.float64))\n",
    "print(\"The number of numerical variables is: \",num1.shape[1])"
   ]
  },
  {
   "cell_type": "code",
   "execution_count": 14,
   "id": "3efc9ca6",
   "metadata": {},
   "outputs": [
    {
     "data": {
      "text/html": [
       "<div>\n",
       "<style scoped>\n",
       "    .dataframe tbody tr th:only-of-type {\n",
       "        vertical-align: middle;\n",
       "    }\n",
       "\n",
       "    .dataframe tbody tr th {\n",
       "        vertical-align: top;\n",
       "    }\n",
       "\n",
       "    .dataframe thead th {\n",
       "        text-align: right;\n",
       "    }\n",
       "</style>\n",
       "<table border=\"1\" class=\"dataframe\">\n",
       "  <thead>\n",
       "    <tr style=\"text-align: right;\">\n",
       "      <th></th>\n",
       "      <th>count</th>\n",
       "      <th>mean</th>\n",
       "      <th>std</th>\n",
       "      <th>min</th>\n",
       "      <th>25%</th>\n",
       "      <th>50%</th>\n",
       "      <th>75%</th>\n",
       "      <th>max</th>\n",
       "    </tr>\n",
       "  </thead>\n",
       "  <tbody>\n",
       "    <tr>\n",
       "      <th>Store_id</th>\n",
       "      <td>188340.0</td>\n",
       "      <td>183.000000</td>\n",
       "      <td>105.366308</td>\n",
       "      <td>1.0</td>\n",
       "      <td>92.0</td>\n",
       "      <td>183.0</td>\n",
       "      <td>274.0</td>\n",
       "      <td>365.0</td>\n",
       "    </tr>\n",
       "    <tr>\n",
       "      <th>Holiday</th>\n",
       "      <td>188340.0</td>\n",
       "      <td>0.131783</td>\n",
       "      <td>0.338256</td>\n",
       "      <td>0.0</td>\n",
       "      <td>0.0</td>\n",
       "      <td>0.0</td>\n",
       "      <td>0.0</td>\n",
       "      <td>1.0</td>\n",
       "    </tr>\n",
       "    <tr>\n",
       "      <th>#Order</th>\n",
       "      <td>188340.0</td>\n",
       "      <td>68.205692</td>\n",
       "      <td>30.467415</td>\n",
       "      <td>0.0</td>\n",
       "      <td>48.0</td>\n",
       "      <td>63.0</td>\n",
       "      <td>82.0</td>\n",
       "      <td>371.0</td>\n",
       "    </tr>\n",
       "    <tr>\n",
       "      <th>Sales</th>\n",
       "      <td>188340.0</td>\n",
       "      <td>42784.327982</td>\n",
       "      <td>18456.708302</td>\n",
       "      <td>0.0</td>\n",
       "      <td>30426.0</td>\n",
       "      <td>39678.0</td>\n",
       "      <td>51909.0</td>\n",
       "      <td>247215.0</td>\n",
       "    </tr>\n",
       "  </tbody>\n",
       "</table>\n",
       "</div>"
      ],
      "text/plain": [
       "             count          mean           std  min      25%      50%  \\\n",
       "Store_id  188340.0    183.000000    105.366308  1.0     92.0    183.0   \n",
       "Holiday   188340.0      0.131783      0.338256  0.0      0.0      0.0   \n",
       "#Order    188340.0     68.205692     30.467415  0.0     48.0     63.0   \n",
       "Sales     188340.0  42784.327982  18456.708302  0.0  30426.0  39678.0   \n",
       "\n",
       "              75%       max  \n",
       "Store_id    274.0     365.0  \n",
       "Holiday       0.0       1.0  \n",
       "#Order       82.0     371.0  \n",
       "Sales     51909.0  247215.0  "
      ]
     },
     "execution_count": 14,
     "metadata": {},
     "output_type": "execute_result"
    }
   ],
   "source": [
    "df1.describe().T"
   ]
  },
  {
   "cell_type": "code",
   "execution_count": 15,
   "id": "947b38db",
   "metadata": {},
   "outputs": [
    {
     "data": {
      "text/html": [
       "<div>\n",
       "<style scoped>\n",
       "    .dataframe tbody tr th:only-of-type {\n",
       "        vertical-align: middle;\n",
       "    }\n",
       "\n",
       "    .dataframe tbody tr th {\n",
       "        vertical-align: top;\n",
       "    }\n",
       "\n",
       "    .dataframe thead th {\n",
       "        text-align: right;\n",
       "    }\n",
       "</style>\n",
       "<table border=\"1\" class=\"dataframe\">\n",
       "  <thead>\n",
       "    <tr style=\"text-align: right;\">\n",
       "      <th></th>\n",
       "      <th>count</th>\n",
       "      <th>mean</th>\n",
       "      <th>std</th>\n",
       "      <th>min</th>\n",
       "      <th>25%</th>\n",
       "      <th>50%</th>\n",
       "      <th>75%</th>\n",
       "      <th>max</th>\n",
       "    </tr>\n",
       "  </thead>\n",
       "  <tbody>\n",
       "    <tr>\n",
       "      <th>Store_id</th>\n",
       "      <td>22265.0</td>\n",
       "      <td>183.000000</td>\n",
       "      <td>105.368395</td>\n",
       "      <td>1.0</td>\n",
       "      <td>92.0</td>\n",
       "      <td>183.0</td>\n",
       "      <td>274.0</td>\n",
       "      <td>365.0</td>\n",
       "    </tr>\n",
       "    <tr>\n",
       "      <th>Holiday</th>\n",
       "      <td>22265.0</td>\n",
       "      <td>0.032787</td>\n",
       "      <td>0.178082</td>\n",
       "      <td>0.0</td>\n",
       "      <td>0.0</td>\n",
       "      <td>0.0</td>\n",
       "      <td>0.0</td>\n",
       "      <td>1.0</td>\n",
       "    </tr>\n",
       "  </tbody>\n",
       "</table>\n",
       "</div>"
      ],
      "text/plain": [
       "            count        mean         std  min   25%    50%    75%    max\n",
       "Store_id  22265.0  183.000000  105.368395  1.0  92.0  183.0  274.0  365.0\n",
       "Holiday   22265.0    0.032787    0.178082  0.0   0.0    0.0    0.0    1.0"
      ]
     },
     "execution_count": 15,
     "metadata": {},
     "output_type": "execute_result"
    }
   ],
   "source": [
    "df2.describe().T"
   ]
  },
  {
   "cell_type": "code",
   "execution_count": 16,
   "id": "cbff1800",
   "metadata": {},
   "outputs": [
    {
     "data": {
      "text/plain": [
       "(188340, 10)"
      ]
     },
     "execution_count": 16,
     "metadata": {},
     "output_type": "execute_result"
    }
   ],
   "source": [
    "df1.shape"
   ]
  },
  {
   "cell_type": "code",
   "execution_count": 17,
   "id": "f338e72d",
   "metadata": {},
   "outputs": [
    {
     "data": {
      "text/plain": [
       "(22265, 8)"
      ]
     },
     "execution_count": 17,
     "metadata": {},
     "output_type": "execute_result"
    }
   ],
   "source": [
    "df2.shape"
   ]
  },
  {
   "cell_type": "code",
   "execution_count": 18,
   "id": "a1bbf022",
   "metadata": {},
   "outputs": [],
   "source": [
    "df1 = df1.drop(['ID','Date','#Order'],axis=1)\n",
    "df2 = df2.drop(['Date'],axis=1)"
   ]
  },
  {
   "cell_type": "code",
   "execution_count": 19,
   "id": "ad103e61",
   "metadata": {
    "scrolled": true
   },
   "outputs": [
    {
     "data": {
      "text/html": [
       "<div>\n",
       "<style scoped>\n",
       "    .dataframe tbody tr th:only-of-type {\n",
       "        vertical-align: middle;\n",
       "    }\n",
       "\n",
       "    .dataframe tbody tr th {\n",
       "        vertical-align: top;\n",
       "    }\n",
       "\n",
       "    .dataframe thead th {\n",
       "        text-align: right;\n",
       "    }\n",
       "</style>\n",
       "<table border=\"1\" class=\"dataframe\">\n",
       "  <thead>\n",
       "    <tr style=\"text-align: right;\">\n",
       "      <th></th>\n",
       "      <th>Store_id</th>\n",
       "      <th>Store_Type</th>\n",
       "      <th>Location_Type</th>\n",
       "      <th>Region_Code</th>\n",
       "      <th>Holiday</th>\n",
       "      <th>Discount</th>\n",
       "      <th>Sales</th>\n",
       "    </tr>\n",
       "  </thead>\n",
       "  <tbody>\n",
       "    <tr>\n",
       "      <th>0</th>\n",
       "      <td>1</td>\n",
       "      <td>S1</td>\n",
       "      <td>L3</td>\n",
       "      <td>R1</td>\n",
       "      <td>1</td>\n",
       "      <td>Yes</td>\n",
       "      <td>7011.84</td>\n",
       "    </tr>\n",
       "    <tr>\n",
       "      <th>1</th>\n",
       "      <td>253</td>\n",
       "      <td>S4</td>\n",
       "      <td>L2</td>\n",
       "      <td>R1</td>\n",
       "      <td>1</td>\n",
       "      <td>Yes</td>\n",
       "      <td>51789.12</td>\n",
       "    </tr>\n",
       "    <tr>\n",
       "      <th>2</th>\n",
       "      <td>252</td>\n",
       "      <td>S3</td>\n",
       "      <td>L2</td>\n",
       "      <td>R1</td>\n",
       "      <td>1</td>\n",
       "      <td>Yes</td>\n",
       "      <td>36868.20</td>\n",
       "    </tr>\n",
       "    <tr>\n",
       "      <th>3</th>\n",
       "      <td>251</td>\n",
       "      <td>S2</td>\n",
       "      <td>L3</td>\n",
       "      <td>R1</td>\n",
       "      <td>1</td>\n",
       "      <td>Yes</td>\n",
       "      <td>19715.16</td>\n",
       "    </tr>\n",
       "    <tr>\n",
       "      <th>4</th>\n",
       "      <td>250</td>\n",
       "      <td>S2</td>\n",
       "      <td>L3</td>\n",
       "      <td>R4</td>\n",
       "      <td>1</td>\n",
       "      <td>Yes</td>\n",
       "      <td>45614.52</td>\n",
       "    </tr>\n",
       "  </tbody>\n",
       "</table>\n",
       "</div>"
      ],
      "text/plain": [
       "   Store_id Store_Type Location_Type Region_Code  Holiday Discount     Sales\n",
       "0         1         S1            L3          R1        1      Yes   7011.84\n",
       "1       253         S4            L2          R1        1      Yes  51789.12\n",
       "2       252         S3            L2          R1        1      Yes  36868.20\n",
       "3       251         S2            L3          R1        1      Yes  19715.16\n",
       "4       250         S2            L3          R4        1      Yes  45614.52"
      ]
     },
     "execution_count": 19,
     "metadata": {},
     "output_type": "execute_result"
    }
   ],
   "source": [
    "df1.head()"
   ]
  },
  {
   "cell_type": "code",
   "execution_count": 20,
   "id": "4aa7d455",
   "metadata": {},
   "outputs": [
    {
     "data": {
      "text/html": [
       "<div>\n",
       "<style scoped>\n",
       "    .dataframe tbody tr th:only-of-type {\n",
       "        vertical-align: middle;\n",
       "    }\n",
       "\n",
       "    .dataframe tbody tr th {\n",
       "        vertical-align: top;\n",
       "    }\n",
       "\n",
       "    .dataframe thead th {\n",
       "        text-align: right;\n",
       "    }\n",
       "</style>\n",
       "<table border=\"1\" class=\"dataframe\">\n",
       "  <thead>\n",
       "    <tr style=\"text-align: right;\">\n",
       "      <th></th>\n",
       "      <th>ID</th>\n",
       "      <th>Store_id</th>\n",
       "      <th>Store_Type</th>\n",
       "      <th>Location_Type</th>\n",
       "      <th>Region_Code</th>\n",
       "      <th>Holiday</th>\n",
       "      <th>Discount</th>\n",
       "    </tr>\n",
       "  </thead>\n",
       "  <tbody>\n",
       "    <tr>\n",
       "      <th>0</th>\n",
       "      <td>T1188341</td>\n",
       "      <td>171</td>\n",
       "      <td>S4</td>\n",
       "      <td>L2</td>\n",
       "      <td>R3</td>\n",
       "      <td>0</td>\n",
       "      <td>No</td>\n",
       "    </tr>\n",
       "    <tr>\n",
       "      <th>1</th>\n",
       "      <td>T1188342</td>\n",
       "      <td>172</td>\n",
       "      <td>S1</td>\n",
       "      <td>L1</td>\n",
       "      <td>R1</td>\n",
       "      <td>0</td>\n",
       "      <td>No</td>\n",
       "    </tr>\n",
       "    <tr>\n",
       "      <th>2</th>\n",
       "      <td>T1188343</td>\n",
       "      <td>173</td>\n",
       "      <td>S4</td>\n",
       "      <td>L2</td>\n",
       "      <td>R1</td>\n",
       "      <td>0</td>\n",
       "      <td>No</td>\n",
       "    </tr>\n",
       "    <tr>\n",
       "      <th>3</th>\n",
       "      <td>T1188344</td>\n",
       "      <td>174</td>\n",
       "      <td>S1</td>\n",
       "      <td>L1</td>\n",
       "      <td>R4</td>\n",
       "      <td>0</td>\n",
       "      <td>No</td>\n",
       "    </tr>\n",
       "    <tr>\n",
       "      <th>4</th>\n",
       "      <td>T1188345</td>\n",
       "      <td>170</td>\n",
       "      <td>S1</td>\n",
       "      <td>L1</td>\n",
       "      <td>R2</td>\n",
       "      <td>0</td>\n",
       "      <td>No</td>\n",
       "    </tr>\n",
       "  </tbody>\n",
       "</table>\n",
       "</div>"
      ],
      "text/plain": [
       "         ID  Store_id Store_Type Location_Type Region_Code  Holiday Discount\n",
       "0  T1188341       171         S4            L2          R3        0       No\n",
       "1  T1188342       172         S1            L1          R1        0       No\n",
       "2  T1188343       173         S4            L2          R1        0       No\n",
       "3  T1188344       174         S1            L1          R4        0       No\n",
       "4  T1188345       170         S1            L1          R2        0       No"
      ]
     },
     "execution_count": 20,
     "metadata": {},
     "output_type": "execute_result"
    }
   ],
   "source": [
    "df2.head()"
   ]
  },
  {
   "cell_type": "markdown",
   "id": "9d2737da",
   "metadata": {},
   "source": [
    "# EDA ON TRAIN DATA\n",
    "**Univariate analysis**"
   ]
  },
  {
   "cell_type": "code",
   "execution_count": 21,
   "id": "691fa05d",
   "metadata": {},
   "outputs": [
    {
     "data": {
      "text/plain": [
       "<AxesSubplot:ylabel='Store_Type'>"
      ]
     },
     "execution_count": 21,
     "metadata": {},
     "output_type": "execute_result"
    },
    {
     "data": {
      "image/png": "[encoded data removed]",
      "text/plain": [
       "<Figure size 1080x720 with 1 Axes>"
      ]
     },
     "metadata": {},
     "output_type": "display_data"
    }
   ],
   "source": [
    "a = df1.loc[:,'Store_Type'].value_counts()\n",
    "a.plot(kind='pie',figsize=(15,10))"
   ]
  },
  {
   "cell_type": "code",
   "execution_count": 22,
   "id": "50fc0cc5",
   "metadata": {},
   "outputs": [
    {
     "data": {
      "text/plain": [
       "<AxesSubplot:ylabel='Location_Type'>"
      ]
     },
     "execution_count": 22,
     "metadata": {},
     "output_type": "execute_result"
    },
    {
     "data": {
      "image/png": "[encoded data removed]",
      "text/plain": [
       "<Figure size 1080x720 with 1 Axes>"
      ]
     },
     "metadata": {},
     "output_type": "display_data"
    }
   ],
   "source": [
    "b = df1.loc[:,'Location_Type'].value_counts()\n",
    "b.plot(kind='pie',figsize=(15,10))"
   ]
  },
  {
   "cell_type": "code",
   "execution_count": 23,
   "id": "cb1eb803",
   "metadata": {},
   "outputs": [
    {
     "data": {
      "text/plain": [
       "<AxesSubplot:ylabel='Region_Code'>"
      ]
     },
     "execution_count": 23,
     "metadata": {},
     "output_type": "execute_result"
    },
    {
     "data": {
      "image/png": "[encoded data removed]",
      "text/plain": [
       "<Figure size 1080x720 with 1 Axes>"
      ]
     },
     "metadata": {},
     "output_type": "display_data"
    }
   ],
   "source": [
    "c = df1.loc[:,'Region_Code'].value_counts()\n",
    "c.plot(kind='pie',figsize=(15,10))"
   ]
  },
  {
   "cell_type": "code",
   "execution_count": 24,
   "id": "2bee30ae",
   "metadata": {},
   "outputs": [
    {
     "data": {
      "text/plain": [
       "<AxesSubplot:xlabel='Discount', ylabel='count'>"
      ]
     },
     "execution_count": 24,
     "metadata": {},
     "output_type": "execute_result"
    },
    {
     "data": {
      "image/png": "[encoded data removed]",
      "text/plain": [
       "<Figure size 432x288 with 1 Axes>"
      ]
     },
     "metadata": {
      "needs_background": "light"
     },
     "output_type": "display_data"
    }
   ],
   "source": [
    "sns.countplot(df1['Discount'])"
   ]
  },
  {
   "cell_type": "code",
   "execution_count": 25,
   "id": "39a8407a",
   "metadata": {},
   "outputs": [
    {
     "data": {
      "text/plain": [
       "<AxesSubplot:xlabel='Holiday', ylabel='count'>"
      ]
     },
     "execution_count": 25,
     "metadata": {},
     "output_type": "execute_result"
    },
    {
     "data": {
      "image/png": "[encoded data removed]",
      "text/plain": [
       "<Figure size 432x288 with 1 Axes>"
      ]
     },
     "metadata": {
      "needs_background": "light"
     },
     "output_type": "display_data"
    }
   ],
   "source": [
    "sns.countplot(df1['Holiday'])"
   ]
  },
  {
   "cell_type": "code",
   "execution_count": 26,
   "id": "0dcdd946",
   "metadata": {},
   "outputs": [
    {
     "data": {
      "image/png": "[encoded data removed]",
      "text/plain": [
       "<Figure size 432x288 with 1 Axes>"
      ]
     },
     "metadata": {
      "needs_background": "light"
     },
     "output_type": "display_data"
    },
    {
     "data": {
      "image/png": "[encoded data removed]",
      "text/plain": [
       "<Figure size 432x288 with 1 Axes>"
      ]
     },
     "metadata": {
      "needs_background": "light"
     },
     "output_type": "display_data"
    }
   ],
   "source": [
    "sns.boxplot(df1['Sales'])\n",
    "plt.title('Boxplot before removing the outliers')\n",
    "plt.show()\n",
    "\n",
    "def replace_outliers(df, field_name):\n",
    "    Q1 = np.percentile(df[field_name],25,interpolation='midpoint')\n",
    "    Q3 = np.percentile(df[field_name],75,interpolation='midpoint')\n",
    "    IQR = Q3-Q1\n",
    "    maxi = Q3+1.5*IQR\n",
    "    mini = Q1-1.5*IQR\n",
    "    df[field_name]=df[field_name].mask(df[field_name]>maxi,maxi)\n",
    "    df[field_name]=df[field_name].mask(df[field_name]<mini,mini)\n",
    "\n",
    "replace_outliers(df1, 'Sales')\n",
    "sns.boxplot(df1['Sales'])\n",
    "plt.title('Box plot after removing outliers')\n",
    "plt.show()"
   ]
  },
  {
   "cell_type": "markdown",
   "id": "0eb6659b",
   "metadata": {},
   "source": [
    "**Bivariate analysis**"
   ]
  },
  {
   "cell_type": "code",
   "execution_count": 27,
   "id": "f6305333",
   "metadata": {},
   "outputs": [
    {
     "name": "stdout",
     "output_type": "stream",
     "text": [
      "Store_Type\n",
      "S1    37643.772852\n",
      "S2    27530.095763\n",
      "S3    46857.761363\n",
      "S4    58074.006631\n",
      "Name: Sales, dtype: float64\n"
     ]
    },
    {
     "data": {
      "text/plain": [
       "<AxesSubplot:xlabel='Store_Type'>"
      ]
     },
     "execution_count": 27,
     "metadata": {},
     "output_type": "execute_result"
    },
    {
     "data": {
      "image/png": "[encoded data removed]",
      "text/plain": [
       "<Figure size 1080x720 with 1 Axes>"
      ]
     },
     "metadata": {
      "needs_background": "light"
     },
     "output_type": "display_data"
    }
   ],
   "source": [
    "gp1 = df1.groupby(['Store_Type'])['Sales'].mean()\n",
    "print(gp1)\n",
    "gp1.plot(kind='bar',figsize=(15,10))"
   ]
  },
  {
   "cell_type": "code",
   "execution_count": 28,
   "id": "98c1fa7e",
   "metadata": {},
   "outputs": [
    {
     "name": "stdout",
     "output_type": "stream",
     "text": [
      "Location_Type\n",
      "L1    41376.322814\n",
      "L2    57434.547515\n",
      "L3    33065.302632\n",
      "L4    29065.781285\n",
      "L5    25187.545866\n",
      "Name: Sales, dtype: float64\n"
     ]
    },
    {
     "data": {
      "text/plain": [
       "<AxesSubplot:ylabel='Sales'>"
      ]
     },
     "execution_count": 28,
     "metadata": {},
     "output_type": "execute_result"
    },
    {
     "data": {
      "image/png": "[encoded data removed]",
      "text/plain": [
       "<Figure size 1080x720 with 1 Axes>"
      ]
     },
     "metadata": {},
     "output_type": "display_data"
    }
   ],
   "source": [
    "gp2 = df1.groupby(['Location_Type'])['Sales'].mean()\n",
    "print(gp2)\n",
    "gp2.plot(kind='pie',figsize=(15,10))"
   ]
  },
  {
   "cell_type": "code",
   "execution_count": 29,
   "id": "aae37c56",
   "metadata": {},
   "outputs": [
    {
     "name": "stdout",
     "output_type": "stream",
     "text": [
      "Region_Code\n",
      "R1    45794.353868\n",
      "R2    39800.732280\n",
      "R3    41861.871703\n",
      "R4    39529.513865\n",
      "Name: Sales, dtype: float64\n"
     ]
    },
    {
     "data": {
      "text/plain": [
       "<AxesSubplot:ylabel='Sales'>"
      ]
     },
     "execution_count": 29,
     "metadata": {},
     "output_type": "execute_result"
    },
    {
     "data": {
      "image/png": "[encoded data removed]",
      "text/plain": [
       "<Figure size 1080x720 with 1 Axes>"
      ]
     },
     "metadata": {},
     "output_type": "display_data"
    }
   ],
   "source": [
    "gp3 = df1.groupby(['Region_Code'])['Sales'].mean()\n",
    "print(gp3)\n",
    "gp3.plot(kind='pie',figsize=(15,10))"
   ]
  },
  {
   "cell_type": "code",
   "execution_count": 30,
   "id": "6dc0df46",
   "metadata": {},
   "outputs": [
    {
     "name": "stdout",
     "output_type": "stream",
     "text": [
      "Discount  Holiday\n",
      "No        0          38011.337249\n",
      "          1          31433.904572\n",
      "Yes       0          50077.536238\n",
      "          1          39337.254085\n",
      "Name: Sales, dtype: float64\n"
     ]
    },
    {
     "data": {
      "text/plain": [
       "<AxesSubplot:xlabel='Discount,Holiday'>"
      ]
     },
     "execution_count": 30,
     "metadata": {},
     "output_type": "execute_result"
    },
    {
     "data": {
      "image/png": "[encoded data removed]",
      "text/plain": [
       "<Figure size 1080x720 with 1 Axes>"
      ]
     },
     "metadata": {
      "needs_background": "light"
     },
     "output_type": "display_data"
    }
   ],
   "source": [
    "gp4 = df1.groupby(['Discount','Holiday'])['Sales'].mean()\n",
    "print(gp4)\n",
    "gp4.plot(kind='bar',figsize=(15,10))"
   ]
  },
  {
   "cell_type": "code",
   "execution_count": 31,
   "id": "416c146a",
   "metadata": {},
   "outputs": [
    {
     "name": "stdout",
     "output_type": "stream",
     "text": [
      "Store_id\n",
      "175    79867.273081\n",
      "337    79345.821279\n",
      "312    78205.734593\n",
      "126    78071.082267\n",
      "160    75928.214244\n",
      "146    75552.856105\n",
      "354    73144.444186\n",
      "153    72332.893081\n",
      "173    70888.771337\n",
      "85     66762.591163\n",
      "315    66691.891221\n",
      "336    65888.105814\n",
      "87     65588.208314\n",
      "176    65521.923314\n",
      "294    65470.402616\n",
      "131    65198.145814\n",
      "15     64552.454186\n",
      "219    64425.706163\n",
      "150    63895.791860\n",
      "11     63473.606860\n",
      "Name: Sales, dtype: float64\n"
     ]
    },
    {
     "data": {
      "image/png": "[encoded data removed]",
      "text/plain": [
       "<Figure size 720x576 with 1 Axes>"
      ]
     },
     "metadata": {
      "needs_background": "light"
     },
     "output_type": "display_data"
    }
   ],
   "source": [
    "gp5 = df1.groupby(['Store_id'])['Sales'].mean().sort_values(ascending=False)[:20]\n",
    "print(gp5)\n",
    "plt.figure(figsize=(10,8))\n",
    "sns.barplot(gp5.index,gp5.values)\n",
    "plt.show()"
   ]
  },
  {
   "cell_type": "code",
   "execution_count": 32,
   "id": "36234078",
   "metadata": {},
   "outputs": [
    {
     "name": "stdout",
     "output_type": "stream",
     "text": [
      "Location_Type  Region_Code\n",
      "L1             R1             26316\n",
      "               R2             24768\n",
      "               R3             20640\n",
      "               R4             13416\n",
      "L2             R1             19608\n",
      "               R2             10836\n",
      "               R3             11868\n",
      "               R4              6192\n",
      "L3             R1              8772\n",
      "               R2              9288\n",
      "               R3              8772\n",
      "               R4              3096\n",
      "L4             R1              3096\n",
      "               R2              4644\n",
      "               R3              2064\n",
      "               R4              1032\n",
      "L5             R1              6192\n",
      "               R2              4644\n",
      "               R3              1032\n",
      "               R4              2064\n",
      "Name: Store_Type, dtype: int64\n"
     ]
    }
   ],
   "source": [
    "gp6 = df1.groupby(['Location_Type','Region_Code'])['Store_Type'].count()\n",
    "print(gp6)"
   ]
  },
  {
   "cell_type": "markdown",
   "id": "d68ab8a5",
   "metadata": {},
   "source": [
    "# EDA ON TEST DATA\n",
    "**Univariate analysis**"
   ]
  },
  {
   "cell_type": "code",
   "execution_count": 33,
   "id": "57fa26ea",
   "metadata": {},
   "outputs": [
    {
     "data": {
      "text/plain": [
       "<AxesSubplot:ylabel='Store_Type'>"
      ]
     },
     "execution_count": 33,
     "metadata": {},
     "output_type": "execute_result"
    },
    {
     "data": {
      "image/png": "[encoded data removed]",
      "text/plain": [
       "<Figure size 1080x720 with 1 Axes>"
      ]
     },
     "metadata": {},
     "output_type": "display_data"
    }
   ],
   "source": [
    "a1 = df2.loc[:,'Store_Type'].value_counts()\n",
    "a1.plot(kind='pie',figsize=(15,10))"
   ]
  },
  {
   "cell_type": "code",
   "execution_count": 34,
   "id": "1bbbe83b",
   "metadata": {},
   "outputs": [
    {
     "data": {
      "text/plain": [
       "<AxesSubplot:ylabel='Location_Type'>"
      ]
     },
     "execution_count": 34,
     "metadata": {},
     "output_type": "execute_result"
    },
    {
     "data": {
      "image/png": "[encoded data removed]",
      "text/plain": [
       "<Figure size 1080x720 with 1 Axes>"
      ]
     },
     "metadata": {},
     "output_type": "display_data"
    }
   ],
   "source": [
    "b1 = df2.loc[:,'Location_Type'].value_counts()\n",
    "b1.plot(kind='pie',figsize=(15,10))"
   ]
  },
  {
   "cell_type": "code",
   "execution_count": 35,
   "id": "a5474d2c",
   "metadata": {},
   "outputs": [
    {
     "data": {
      "text/plain": [
       "<AxesSubplot:ylabel='Region_Code'>"
      ]
     },
     "execution_count": 35,
     "metadata": {},
     "output_type": "execute_result"
    },
    {
     "data": {
      "image/png": "[encoded data removed]",
      "text/plain": [
       "<Figure size 1080x720 with 1 Axes>"
      ]
     },
     "metadata": {},
     "output_type": "display_data"
    }
   ],
   "source": [
    "c1 = df2.loc[:,'Region_Code'].value_counts()\n",
    "c1.plot(kind='pie',figsize=(15,10))"
   ]
  },
  {
   "cell_type": "code",
   "execution_count": 36,
   "id": "5ac0a477",
   "metadata": {},
   "outputs": [
    {
     "data": {
      "text/plain": [
       "<AxesSubplot:xlabel='Discount', ylabel='count'>"
      ]
     },
     "execution_count": 36,
     "metadata": {},
     "output_type": "execute_result"
    },
    {
     "data": {
      "image/png": "[encoded data removed]",
      "text/plain": [
       "<Figure size 432x288 with 1 Axes>"
      ]
     },
     "metadata": {
      "needs_background": "light"
     },
     "output_type": "display_data"
    }
   ],
   "source": [
    "sns.countplot(df2['Discount'])"
   ]
  },
  {
   "cell_type": "code",
   "execution_count": 37,
   "id": "ed6cab10",
   "metadata": {},
   "outputs": [
    {
     "data": {
      "text/plain": [
       "<AxesSubplot:xlabel='Holiday', ylabel='count'>"
      ]
     },
     "execution_count": 37,
     "metadata": {},
     "output_type": "execute_result"
    },
    {
     "data": {
      "image/png": "[encoded data removed]",
      "text/plain": [
       "<Figure size 432x288 with 1 Axes>"
      ]
     },
     "metadata": {
      "needs_background": "light"
     },
     "output_type": "display_data"
    }
   ],
   "source": [
    "sns.countplot(df2['Holiday'])"
   ]
  },
  {
   "cell_type": "markdown",
   "id": "a8f789bd",
   "metadata": {},
   "source": [
    "**Bivariate Analysis**"
   ]
  },
  {
   "cell_type": "code",
   "execution_count": 38,
   "id": "b8a51139",
   "metadata": {},
   "outputs": [
    {
     "name": "stdout",
     "output_type": "stream",
     "text": [
      "Location_Type  Region_Code\n",
      "L1             R1             3111\n",
      "               R2             2928\n",
      "               R3             2440\n",
      "               R4             1586\n",
      "L2             R1             2318\n",
      "               R2             1281\n",
      "               R3             1403\n",
      "               R4              732\n",
      "L3             R1             1037\n",
      "               R2             1098\n",
      "               R3             1037\n",
      "               R4              366\n",
      "L4             R1              366\n",
      "               R2              549\n",
      "               R3              244\n",
      "               R4              122\n",
      "L5             R1              732\n",
      "               R2              549\n",
      "               R3              122\n",
      "               R4              244\n",
      "Name: Store_Type, dtype: int64\n"
     ]
    }
   ],
   "source": [
    "gp7 = df2.groupby(['Location_Type','Region_Code'])['Store_Type'].count()\n",
    "print(gp7)"
   ]
  },
  {
   "cell_type": "markdown",
   "id": "519ade42",
   "metadata": {},
   "source": [
    "# Pre - Processing"
   ]
  },
  {
   "cell_type": "code",
   "execution_count": 39,
   "id": "b9f6c789",
   "metadata": {},
   "outputs": [],
   "source": [
    "from sklearn.preprocessing import LabelEncoder\n",
    "df1['Discount'] = LabelEncoder().fit_transform(df1['Discount'])\n",
    "df2['Discount'] = LabelEncoder().fit_transform(df2['Discount'])"
   ]
  },
  {
   "cell_type": "code",
   "execution_count": 40,
   "id": "ddfd9e84",
   "metadata": {},
   "outputs": [],
   "source": [
    "for i in df1['Store_Type'].unique():\n",
    "    df1['Store_Type'+'_'+i]=np.where(df1['Store_Type']==i,1,0)"
   ]
  },
  {
   "cell_type": "code",
   "execution_count": 41,
   "id": "9ac7299b",
   "metadata": {},
   "outputs": [],
   "source": [
    "for i in df1['Location_Type'].unique():\n",
    "    df1['Location_Type'+'_'+i]=np.where(df1['Location_Type']==i,1,0)"
   ]
  },
  {
   "cell_type": "code",
   "execution_count": 42,
   "id": "0687a764",
   "metadata": {},
   "outputs": [],
   "source": [
    "for i in df1['Region_Code'].unique():\n",
    "    df1['Region_Code'+'_'+i]=np.where(df1['Region_Code']==i,1,0)"
   ]
  },
  {
   "cell_type": "code",
   "execution_count": 43,
   "id": "bf7ecf32",
   "metadata": {},
   "outputs": [],
   "source": [
    "for i in df2['Store_Type'].unique():\n",
    "    df2['Store_Type'+'_'+i]=np.where(df2['Store_Type']==i,1,0)"
   ]
  },
  {
   "cell_type": "code",
   "execution_count": 44,
   "id": "313978ec",
   "metadata": {},
   "outputs": [],
   "source": [
    "for i in df2['Location_Type'].unique():\n",
    "    df2['Location_Type'+'_'+i]=np.where(df2['Location_Type']==i,1,0)"
   ]
  },
  {
   "cell_type": "code",
   "execution_count": 45,
   "id": "abe49b8d",
   "metadata": {},
   "outputs": [],
   "source": [
    "for i in df2['Region_Code'].unique():\n",
    "    df2['Region_Code'+'_'+i]=np.where(df2['Region_Code']==i,1,0)"
   ]
  },
  {
   "cell_type": "code",
   "execution_count": 46,
   "id": "48b18a13",
   "metadata": {},
   "outputs": [
    {
     "data": {
      "text/plain": [
       "Index(['Store_id', 'Store_Type', 'Location_Type', 'Region_Code', 'Holiday',\n",
       "       'Discount', 'Sales', 'Store_Type_S1', 'Store_Type_S4', 'Store_Type_S3',\n",
       "       'Store_Type_S2', 'Location_Type_L3', 'Location_Type_L2',\n",
       "       'Location_Type_L1', 'Location_Type_L5', 'Location_Type_L4',\n",
       "       'Region_Code_R1', 'Region_Code_R4', 'Region_Code_R2', 'Region_Code_R3'],\n",
       "      dtype='object')"
      ]
     },
     "execution_count": 46,
     "metadata": {},
     "output_type": "execute_result"
    }
   ],
   "source": [
    "df1.columns"
   ]
  },
  {
   "cell_type": "code",
   "execution_count": 47,
   "id": "9fb33ed8",
   "metadata": {},
   "outputs": [],
   "source": [
    "df1 = df1.drop(['Store_id','Store_Type','Location_Type','Region_Code'],axis=1)\n",
    "df2 = df2.drop(['Store_id','Store_Type','Location_Type','Region_Code'],axis=1)\n",
    "df1 = df1[['Store_Type_S1', 'Store_Type_S2', 'Store_Type_S3',\n",
    "       'Store_Type_S4','Location_Type_L1', 'Location_Type_L2',\n",
    "       'Location_Type_L3', 'Location_Type_L4', 'Location_Type_L5',\n",
    "       'Region_Code_R1', 'Region_Code_R2', 'Region_Code_R3', 'Region_Code_R4',\n",
    "          'Holiday','Discount', 'Sales']]\n",
    "df2 = df2[['ID','Store_Type_S1', 'Store_Type_S2', 'Store_Type_S3',\n",
    "       'Store_Type_S4','Location_Type_L1', 'Location_Type_L2',\n",
    "       'Location_Type_L3', 'Location_Type_L4', 'Location_Type_L5',\n",
    "       'Region_Code_R1', 'Region_Code_R2', 'Region_Code_R3', 'Region_Code_R4',\n",
    "          'Holiday','Discount']]"
   ]
  },
  {
   "cell_type": "code",
   "execution_count": 48,
   "id": "de14446f",
   "metadata": {},
   "outputs": [
    {
     "data": {
      "text/html": [
       "<div>\n",
       "<style scoped>\n",
       "    .dataframe tbody tr th:only-of-type {\n",
       "        vertical-align: middle;\n",
       "    }\n",
       "\n",
       "    .dataframe tbody tr th {\n",
       "        vertical-align: top;\n",
       "    }\n",
       "\n",
       "    .dataframe thead th {\n",
       "        text-align: right;\n",
       "    }\n",
       "</style>\n",
       "<table border=\"1\" class=\"dataframe\">\n",
       "  <thead>\n",
       "    <tr style=\"text-align: right;\">\n",
       "      <th></th>\n",
       "      <th>Store_Type_S1</th>\n",
       "      <th>Store_Type_S2</th>\n",
       "      <th>Store_Type_S3</th>\n",
       "      <th>Store_Type_S4</th>\n",
       "      <th>Location_Type_L1</th>\n",
       "      <th>Location_Type_L2</th>\n",
       "      <th>Location_Type_L3</th>\n",
       "      <th>Location_Type_L4</th>\n",
       "      <th>Location_Type_L5</th>\n",
       "      <th>Region_Code_R1</th>\n",
       "      <th>Region_Code_R2</th>\n",
       "      <th>Region_Code_R3</th>\n",
       "      <th>Region_Code_R4</th>\n",
       "      <th>Holiday</th>\n",
       "      <th>Discount</th>\n",
       "      <th>Sales</th>\n",
       "    </tr>\n",
       "  </thead>\n",
       "  <tbody>\n",
       "    <tr>\n",
       "      <th>0</th>\n",
       "      <td>1</td>\n",
       "      <td>0</td>\n",
       "      <td>0</td>\n",
       "      <td>0</td>\n",
       "      <td>0</td>\n",
       "      <td>0</td>\n",
       "      <td>1</td>\n",
       "      <td>0</td>\n",
       "      <td>0</td>\n",
       "      <td>1</td>\n",
       "      <td>0</td>\n",
       "      <td>0</td>\n",
       "      <td>0</td>\n",
       "      <td>1</td>\n",
       "      <td>1</td>\n",
       "      <td>7011.84</td>\n",
       "    </tr>\n",
       "    <tr>\n",
       "      <th>1</th>\n",
       "      <td>0</td>\n",
       "      <td>0</td>\n",
       "      <td>0</td>\n",
       "      <td>1</td>\n",
       "      <td>0</td>\n",
       "      <td>1</td>\n",
       "      <td>0</td>\n",
       "      <td>0</td>\n",
       "      <td>0</td>\n",
       "      <td>1</td>\n",
       "      <td>0</td>\n",
       "      <td>0</td>\n",
       "      <td>0</td>\n",
       "      <td>1</td>\n",
       "      <td>1</td>\n",
       "      <td>51789.12</td>\n",
       "    </tr>\n",
       "    <tr>\n",
       "      <th>2</th>\n",
       "      <td>0</td>\n",
       "      <td>0</td>\n",
       "      <td>1</td>\n",
       "      <td>0</td>\n",
       "      <td>0</td>\n",
       "      <td>1</td>\n",
       "      <td>0</td>\n",
       "      <td>0</td>\n",
       "      <td>0</td>\n",
       "      <td>1</td>\n",
       "      <td>0</td>\n",
       "      <td>0</td>\n",
       "      <td>0</td>\n",
       "      <td>1</td>\n",
       "      <td>1</td>\n",
       "      <td>36868.20</td>\n",
       "    </tr>\n",
       "    <tr>\n",
       "      <th>3</th>\n",
       "      <td>0</td>\n",
       "      <td>1</td>\n",
       "      <td>0</td>\n",
       "      <td>0</td>\n",
       "      <td>0</td>\n",
       "      <td>0</td>\n",
       "      <td>1</td>\n",
       "      <td>0</td>\n",
       "      <td>0</td>\n",
       "      <td>1</td>\n",
       "      <td>0</td>\n",
       "      <td>0</td>\n",
       "      <td>0</td>\n",
       "      <td>1</td>\n",
       "      <td>1</td>\n",
       "      <td>19715.16</td>\n",
       "    </tr>\n",
       "    <tr>\n",
       "      <th>4</th>\n",
       "      <td>0</td>\n",
       "      <td>1</td>\n",
       "      <td>0</td>\n",
       "      <td>0</td>\n",
       "      <td>0</td>\n",
       "      <td>0</td>\n",
       "      <td>1</td>\n",
       "      <td>0</td>\n",
       "      <td>0</td>\n",
       "      <td>0</td>\n",
       "      <td>0</td>\n",
       "      <td>0</td>\n",
       "      <td>1</td>\n",
       "      <td>1</td>\n",
       "      <td>1</td>\n",
       "      <td>45614.52</td>\n",
       "    </tr>\n",
       "  </tbody>\n",
       "</table>\n",
       "</div>"
      ],
      "text/plain": [
       "   Store_Type_S1  Store_Type_S2  Store_Type_S3  Store_Type_S4  \\\n",
       "0              1              0              0              0   \n",
       "1              0              0              0              1   \n",
       "2              0              0              1              0   \n",
       "3              0              1              0              0   \n",
       "4              0              1              0              0   \n",
       "\n",
       "   Location_Type_L1  Location_Type_L2  Location_Type_L3  Location_Type_L4  \\\n",
       "0                 0                 0                 1                 0   \n",
       "1                 0                 1                 0                 0   \n",
       "2                 0                 1                 0                 0   \n",
       "3                 0                 0                 1                 0   \n",
       "4                 0                 0                 1                 0   \n",
       "\n",
       "   Location_Type_L5  Region_Code_R1  Region_Code_R2  Region_Code_R3  \\\n",
       "0                 0               1               0               0   \n",
       "1                 0               1               0               0   \n",
       "2                 0               1               0               0   \n",
       "3                 0               1               0               0   \n",
       "4                 0               0               0               0   \n",
       "\n",
       "   Region_Code_R4  Holiday  Discount     Sales  \n",
       "0               0        1         1   7011.84  \n",
       "1               0        1         1  51789.12  \n",
       "2               0        1         1  36868.20  \n",
       "3               0        1         1  19715.16  \n",
       "4               1        1         1  45614.52  "
      ]
     },
     "execution_count": 48,
     "metadata": {},
     "output_type": "execute_result"
    }
   ],
   "source": [
    "df1.head()"
   ]
  },
  {
   "cell_type": "code",
   "execution_count": 49,
   "id": "5c4f0cfc",
   "metadata": {},
   "outputs": [
    {
     "data": {
      "text/html": [
       "<div>\n",
       "<style scoped>\n",
       "    .dataframe tbody tr th:only-of-type {\n",
       "        vertical-align: middle;\n",
       "    }\n",
       "\n",
       "    .dataframe tbody tr th {\n",
       "        vertical-align: top;\n",
       "    }\n",
       "\n",
       "    .dataframe thead th {\n",
       "        text-align: right;\n",
       "    }\n",
       "</style>\n",
       "<table border=\"1\" class=\"dataframe\">\n",
       "  <thead>\n",
       "    <tr style=\"text-align: right;\">\n",
       "      <th></th>\n",
       "      <th>ID</th>\n",
       "      <th>Store_Type_S1</th>\n",
       "      <th>Store_Type_S2</th>\n",
       "      <th>Store_Type_S3</th>\n",
       "      <th>Store_Type_S4</th>\n",
       "      <th>Location_Type_L1</th>\n",
       "      <th>Location_Type_L2</th>\n",
       "      <th>Location_Type_L3</th>\n",
       "      <th>Location_Type_L4</th>\n",
       "      <th>Location_Type_L5</th>\n",
       "      <th>Region_Code_R1</th>\n",
       "      <th>Region_Code_R2</th>\n",
       "      <th>Region_Code_R3</th>\n",
       "      <th>Region_Code_R4</th>\n",
       "      <th>Holiday</th>\n",
       "      <th>Discount</th>\n",
       "    </tr>\n",
       "  </thead>\n",
       "  <tbody>\n",
       "    <tr>\n",
       "      <th>0</th>\n",
       "      <td>T1188341</td>\n",
       "      <td>0</td>\n",
       "      <td>0</td>\n",
       "      <td>0</td>\n",
       "      <td>1</td>\n",
       "      <td>0</td>\n",
       "      <td>1</td>\n",
       "      <td>0</td>\n",
       "      <td>0</td>\n",
       "      <td>0</td>\n",
       "      <td>0</td>\n",
       "      <td>0</td>\n",
       "      <td>1</td>\n",
       "      <td>0</td>\n",
       "      <td>0</td>\n",
       "      <td>0</td>\n",
       "    </tr>\n",
       "    <tr>\n",
       "      <th>1</th>\n",
       "      <td>T1188342</td>\n",
       "      <td>1</td>\n",
       "      <td>0</td>\n",
       "      <td>0</td>\n",
       "      <td>0</td>\n",
       "      <td>1</td>\n",
       "      <td>0</td>\n",
       "      <td>0</td>\n",
       "      <td>0</td>\n",
       "      <td>0</td>\n",
       "      <td>1</td>\n",
       "      <td>0</td>\n",
       "      <td>0</td>\n",
       "      <td>0</td>\n",
       "      <td>0</td>\n",
       "      <td>0</td>\n",
       "    </tr>\n",
       "    <tr>\n",
       "      <th>2</th>\n",
       "      <td>T1188343</td>\n",
       "      <td>0</td>\n",
       "      <td>0</td>\n",
       "      <td>0</td>\n",
       "      <td>1</td>\n",
       "      <td>0</td>\n",
       "      <td>1</td>\n",
       "      <td>0</td>\n",
       "      <td>0</td>\n",
       "      <td>0</td>\n",
       "      <td>1</td>\n",
       "      <td>0</td>\n",
       "      <td>0</td>\n",
       "      <td>0</td>\n",
       "      <td>0</td>\n",
       "      <td>0</td>\n",
       "    </tr>\n",
       "    <tr>\n",
       "      <th>3</th>\n",
       "      <td>T1188344</td>\n",
       "      <td>1</td>\n",
       "      <td>0</td>\n",
       "      <td>0</td>\n",
       "      <td>0</td>\n",
       "      <td>1</td>\n",
       "      <td>0</td>\n",
       "      <td>0</td>\n",
       "      <td>0</td>\n",
       "      <td>0</td>\n",
       "      <td>0</td>\n",
       "      <td>0</td>\n",
       "      <td>0</td>\n",
       "      <td>1</td>\n",
       "      <td>0</td>\n",
       "      <td>0</td>\n",
       "    </tr>\n",
       "    <tr>\n",
       "      <th>4</th>\n",
       "      <td>T1188345</td>\n",
       "      <td>1</td>\n",
       "      <td>0</td>\n",
       "      <td>0</td>\n",
       "      <td>0</td>\n",
       "      <td>1</td>\n",
       "      <td>0</td>\n",
       "      <td>0</td>\n",
       "      <td>0</td>\n",
       "      <td>0</td>\n",
       "      <td>0</td>\n",
       "      <td>1</td>\n",
       "      <td>0</td>\n",
       "      <td>0</td>\n",
       "      <td>0</td>\n",
       "      <td>0</td>\n",
       "    </tr>\n",
       "  </tbody>\n",
       "</table>\n",
       "</div>"
      ],
      "text/plain": [
       "         ID  Store_Type_S1  Store_Type_S2  Store_Type_S3  Store_Type_S4  \\\n",
       "0  T1188341              0              0              0              1   \n",
       "1  T1188342              1              0              0              0   \n",
       "2  T1188343              0              0              0              1   \n",
       "3  T1188344              1              0              0              0   \n",
       "4  T1188345              1              0              0              0   \n",
       "\n",
       "   Location_Type_L1  Location_Type_L2  Location_Type_L3  Location_Type_L4  \\\n",
       "0                 0                 1                 0                 0   \n",
       "1                 1                 0                 0                 0   \n",
       "2                 0                 1                 0                 0   \n",
       "3                 1                 0                 0                 0   \n",
       "4                 1                 0                 0                 0   \n",
       "\n",
       "   Location_Type_L5  Region_Code_R1  Region_Code_R2  Region_Code_R3  \\\n",
       "0                 0               0               0               1   \n",
       "1                 0               1               0               0   \n",
       "2                 0               1               0               0   \n",
       "3                 0               0               0               0   \n",
       "4                 0               0               1               0   \n",
       "\n",
       "   Region_Code_R4  Holiday  Discount  \n",
       "0               0        0         0  \n",
       "1               0        0         0  \n",
       "2               0        0         0  \n",
       "3               1        0         0  \n",
       "4               0        0         0  "
      ]
     },
     "execution_count": 49,
     "metadata": {},
     "output_type": "execute_result"
    }
   ],
   "source": [
    "df2.head()"
   ]
  },
  {
   "cell_type": "code",
   "execution_count": 50,
   "id": "7b4c1ed6",
   "metadata": {},
   "outputs": [
    {
     "data": {
      "text/plain": [
       "<AxesSubplot:>"
      ]
     },
     "execution_count": 50,
     "metadata": {},
     "output_type": "execute_result"
    },
    {
     "data": {
      "image/png": "[encoded data removed]",
      "text/plain": [
       "<Figure size 2160x1440 with 2 Axes>"
      ]
     },
     "metadata": {
      "needs_background": "light"
     },
     "output_type": "display_data"
    }
   ],
   "source": [
    "plt.figure(figsize=(30,20))\n",
    "df_lt = df1.corr(method = \"pearson\")\n",
    "df_lt1 = df_lt.where(np.tril(np.ones(df_lt.shape)).astype(np.bool))\n",
    "sns.heatmap(df_lt1,annot=True,cmap=\"coolwarm\")"
   ]
  },
  {
   "cell_type": "markdown",
   "id": "5eeed8ea",
   "metadata": {},
   "source": [
    "# Model Selection"
   ]
  },
  {
   "cell_type": "code",
   "execution_count": 51,
   "id": "ed242104",
   "metadata": {},
   "outputs": [],
   "source": [
    "X = df1.drop('Sales',axis=1)\n",
    "y = df1['Sales']"
   ]
  },
  {
   "cell_type": "code",
   "execution_count": 52,
   "id": "05507614",
   "metadata": {},
   "outputs": [],
   "source": [
    "from sklearn.model_selection import train_test_split\n",
    "X_train,X_test,y_train,y_test = train_test_split(X,y,test_size=0.30,random_state=42)"
   ]
  },
  {
   "cell_type": "code",
   "execution_count": 53,
   "id": "6cf76ef3",
   "metadata": {},
   "outputs": [
    {
     "name": "stdout",
     "output_type": "stream",
     "text": [
      "(131838, 15)\n",
      "(56502, 15)\n",
      "(131838,)\n",
      "(56502,)\n"
     ]
    }
   ],
   "source": [
    "print(X_train.shape)\n",
    "print(X_test.shape)\n",
    "print(y_train.shape)\n",
    "print(y_test.shape)"
   ]
  },
  {
   "cell_type": "markdown",
   "id": "981b7fae",
   "metadata": {},
   "source": [
    "# Model building\n",
    "**1.Linear Regression**"
   ]
  },
  {
   "cell_type": "code",
   "execution_count": 54,
   "id": "bde8e213",
   "metadata": {},
   "outputs": [
    {
     "data": {
      "text/plain": [
       "LinearRegression()"
      ]
     },
     "execution_count": 54,
     "metadata": {},
     "output_type": "execute_result"
    }
   ],
   "source": [
    "from sklearn.linear_model import LinearRegression\n",
    "le = LinearRegression()\n",
    "le.fit(X_train,y_train)"
   ]
  },
  {
   "cell_type": "code",
   "execution_count": 55,
   "id": "d53b6cc0",
   "metadata": {},
   "outputs": [],
   "source": [
    "x_pred1 = le.predict(X_train)\n",
    "y_pred1 = le.predict(X_test)"
   ]
  },
  {
   "cell_type": "code",
   "execution_count": 56,
   "id": "ccaf34a5",
   "metadata": {},
   "outputs": [
    {
     "data": {
      "text/html": [
       "<div>\n",
       "<style scoped>\n",
       "    .dataframe tbody tr th:only-of-type {\n",
       "        vertical-align: middle;\n",
       "    }\n",
       "\n",
       "    .dataframe tbody tr th {\n",
       "        vertical-align: top;\n",
       "    }\n",
       "\n",
       "    .dataframe thead th {\n",
       "        text-align: right;\n",
       "    }\n",
       "</style>\n",
       "<table border=\"1\" class=\"dataframe\">\n",
       "  <thead>\n",
       "    <tr style=\"text-align: right;\">\n",
       "      <th></th>\n",
       "      <th>actual</th>\n",
       "      <th>predicted</th>\n",
       "    </tr>\n",
       "  </thead>\n",
       "  <tbody>\n",
       "    <tr>\n",
       "      <th>2393</th>\n",
       "      <td>32667.00</td>\n",
       "      <td>27473.8750</td>\n",
       "    </tr>\n",
       "    <tr>\n",
       "      <th>28079</th>\n",
       "      <td>70352.25</td>\n",
       "      <td>60002.0000</td>\n",
       "    </tr>\n",
       "    <tr>\n",
       "      <th>31424</th>\n",
       "      <td>34824.00</td>\n",
       "      <td>46049.1250</td>\n",
       "    </tr>\n",
       "    <tr>\n",
       "      <th>93670</th>\n",
       "      <td>34365.00</td>\n",
       "      <td>47777.4375</td>\n",
       "    </tr>\n",
       "    <tr>\n",
       "      <th>80507</th>\n",
       "      <td>37107.00</td>\n",
       "      <td>34864.1875</td>\n",
       "    </tr>\n",
       "    <tr>\n",
       "      <th>...</th>\n",
       "      <td>...</td>\n",
       "      <td>...</td>\n",
       "    </tr>\n",
       "    <tr>\n",
       "      <th>133834</th>\n",
       "      <td>53619.00</td>\n",
       "      <td>57094.0625</td>\n",
       "    </tr>\n",
       "    <tr>\n",
       "      <th>178139</th>\n",
       "      <td>62964.00</td>\n",
       "      <td>36572.6250</td>\n",
       "    </tr>\n",
       "    <tr>\n",
       "      <th>125450</th>\n",
       "      <td>41610.00</td>\n",
       "      <td>59255.0000</td>\n",
       "    </tr>\n",
       "    <tr>\n",
       "      <th>147857</th>\n",
       "      <td>58940.82</td>\n",
       "      <td>26001.9375</td>\n",
       "    </tr>\n",
       "    <tr>\n",
       "      <th>17168</th>\n",
       "      <td>28656.00</td>\n",
       "      <td>25095.0625</td>\n",
       "    </tr>\n",
       "  </tbody>\n",
       "</table>\n",
       "<p>56502 rows × 2 columns</p>\n",
       "</div>"
      ],
      "text/plain": [
       "          actual   predicted\n",
       "2393    32667.00  27473.8750\n",
       "28079   70352.25  60002.0000\n",
       "31424   34824.00  46049.1250\n",
       "93670   34365.00  47777.4375\n",
       "80507   37107.00  34864.1875\n",
       "...          ...         ...\n",
       "133834  53619.00  57094.0625\n",
       "178139  62964.00  36572.6250\n",
       "125450  41610.00  59255.0000\n",
       "147857  58940.82  26001.9375\n",
       "17168   28656.00  25095.0625\n",
       "\n",
       "[56502 rows x 2 columns]"
      ]
     },
     "execution_count": 56,
     "metadata": {},
     "output_type": "execute_result"
    }
   ],
   "source": [
    "temp_1 = pd.DataFrame({'actual':y_test,'predicted':y_pred1})\n",
    "temp_1"
   ]
  },
  {
   "cell_type": "code",
   "execution_count": 57,
   "id": "ef40bd1b",
   "metadata": {},
   "outputs": [
    {
     "name": "stdout",
     "output_type": "stream",
     "text": [
      "Mean absolute error on training set:  8104.646554255981\n",
      "Mean absolute error on testing set:  8097.091257212133\n",
      "Mean squared error on training set:  117507571.92586076\n",
      "Mean squared error on testing set:  117797377.81275259\n",
      "Root Mean squared error on training set:  10840.090955608295\n",
      "Root Mean squared error on testing set:  10853.45004193379\n"
     ]
    }
   ],
   "source": [
    "from sklearn import metrics\n",
    "print(\"Mean absolute error on training set: \",metrics.mean_absolute_error(y_train,x_pred1))\n",
    "print(\"Mean absolute error on testing set: \",metrics.mean_absolute_error(y_test,y_pred1))\n",
    "print(\"Mean squared error on training set: \",metrics.mean_squared_error(y_train,x_pred1))\n",
    "print(\"Mean squared error on testing set: \",metrics.mean_squared_error(y_test,y_pred1))\n",
    "print(\"Root Mean squared error on training set: \",metrics.mean_squared_error(y_train,x_pred1,squared=False))\n",
    "print(\"Root Mean squared error on testing set: \",metrics.mean_squared_error(y_test,y_pred1,squared=False))"
   ]
  },
  {
   "cell_type": "markdown",
   "id": "3498f1b8",
   "metadata": {},
   "source": [
    "**2.Random Forest regressor**"
   ]
  },
  {
   "cell_type": "code",
   "execution_count": 59,
   "id": "fa00ac58",
   "metadata": {},
   "outputs": [
    {
     "data": {
      "text/plain": [
       "RandomForestRegressor()"
      ]
     },
     "execution_count": 59,
     "metadata": {},
     "output_type": "execute_result"
    }
   ],
   "source": [
    "from sklearn.ensemble import RandomForestRegressor\n",
    "rf = RandomForestRegressor()\n",
    "rf.fit(X_train,y_train)"
   ]
  },
  {
   "cell_type": "code",
   "execution_count": 60,
   "id": "dc63d70b",
   "metadata": {},
   "outputs": [],
   "source": [
    "x_pred2 = rf.predict(X_train)\n",
    "y_pred2 = rf.predict(X_test)"
   ]
  },
  {
   "cell_type": "code",
   "execution_count": 61,
   "id": "fe78e432",
   "metadata": {},
   "outputs": [
    {
     "data": {
      "text/html": [
       "<div>\n",
       "<style scoped>\n",
       "    .dataframe tbody tr th:only-of-type {\n",
       "        vertical-align: middle;\n",
       "    }\n",
       "\n",
       "    .dataframe tbody tr th {\n",
       "        vertical-align: top;\n",
       "    }\n",
       "\n",
       "    .dataframe thead th {\n",
       "        text-align: right;\n",
       "    }\n",
       "</style>\n",
       "<table border=\"1\" class=\"dataframe\">\n",
       "  <thead>\n",
       "    <tr style=\"text-align: right;\">\n",
       "      <th></th>\n",
       "      <th>actual</th>\n",
       "      <th>predicted</th>\n",
       "    </tr>\n",
       "  </thead>\n",
       "  <tbody>\n",
       "    <tr>\n",
       "      <th>2393</th>\n",
       "      <td>32667.00</td>\n",
       "      <td>27835.497198</td>\n",
       "    </tr>\n",
       "    <tr>\n",
       "      <th>28079</th>\n",
       "      <td>70352.25</td>\n",
       "      <td>57659.545302</td>\n",
       "    </tr>\n",
       "    <tr>\n",
       "      <th>31424</th>\n",
       "      <td>34824.00</td>\n",
       "      <td>47943.178889</td>\n",
       "    </tr>\n",
       "    <tr>\n",
       "      <th>93670</th>\n",
       "      <td>34365.00</td>\n",
       "      <td>45239.902369</td>\n",
       "    </tr>\n",
       "    <tr>\n",
       "      <th>80507</th>\n",
       "      <td>37107.00</td>\n",
       "      <td>35094.465686</td>\n",
       "    </tr>\n",
       "    <tr>\n",
       "      <th>...</th>\n",
       "      <td>...</td>\n",
       "      <td>...</td>\n",
       "    </tr>\n",
       "    <tr>\n",
       "      <th>133834</th>\n",
       "      <td>53619.00</td>\n",
       "      <td>59460.235115</td>\n",
       "    </tr>\n",
       "    <tr>\n",
       "      <th>178139</th>\n",
       "      <td>62964.00</td>\n",
       "      <td>33185.186679</td>\n",
       "    </tr>\n",
       "    <tr>\n",
       "      <th>125450</th>\n",
       "      <td>41610.00</td>\n",
       "      <td>60016.442644</td>\n",
       "    </tr>\n",
       "    <tr>\n",
       "      <th>147857</th>\n",
       "      <td>58940.82</td>\n",
       "      <td>29425.409245</td>\n",
       "    </tr>\n",
       "    <tr>\n",
       "      <th>17168</th>\n",
       "      <td>28656.00</td>\n",
       "      <td>28032.807309</td>\n",
       "    </tr>\n",
       "  </tbody>\n",
       "</table>\n",
       "<p>56502 rows × 2 columns</p>\n",
       "</div>"
      ],
      "text/plain": [
       "          actual     predicted\n",
       "2393    32667.00  27835.497198\n",
       "28079   70352.25  57659.545302\n",
       "31424   34824.00  47943.178889\n",
       "93670   34365.00  45239.902369\n",
       "80507   37107.00  35094.465686\n",
       "...          ...           ...\n",
       "133834  53619.00  59460.235115\n",
       "178139  62964.00  33185.186679\n",
       "125450  41610.00  60016.442644\n",
       "147857  58940.82  29425.409245\n",
       "17168   28656.00  28032.807309\n",
       "\n",
       "[56502 rows x 2 columns]"
      ]
     },
     "execution_count": 61,
     "metadata": {},
     "output_type": "execute_result"
    }
   ],
   "source": [
    "temp_2 = pd.DataFrame({'actual':y_test,'predicted':y_pred2})\n",
    "temp_2"
   ]
  },
  {
   "cell_type": "code",
   "execution_count": 62,
   "id": "513c47ff",
   "metadata": {},
   "outputs": [
    {
     "name": "stdout",
     "output_type": "stream",
     "text": [
      "Mean absolute error on training set:  7897.581784081738\n",
      "Mean absolute error on testing set:  7908.114969225\n",
      "Mean squared error on training set:  112936295.99243622\n",
      "Mean squared error on testing set:  113362046.09842962\n",
      "Root Mean squared error on training set:  10627.14900584518\n",
      "Root Mean squared error on testing set:  10647.161410368006\n"
     ]
    }
   ],
   "source": [
    "print(\"Mean absolute error on training set: \",metrics.mean_absolute_error(y_train,x_pred2))\n",
    "print(\"Mean absolute error on testing set: \",metrics.mean_absolute_error(y_test,y_pred2))\n",
    "print(\"Mean squared error on training set: \",metrics.mean_squared_error(y_train,x_pred2))\n",
    "print(\"Mean squared error on testing set: \",metrics.mean_squared_error(y_test,y_pred2))\n",
    "print(\"Root Mean squared error on training set: \",metrics.mean_squared_error(y_train,x_pred2,squared=False))\n",
    "print(\"Root Mean squared error on testing set: \",metrics.mean_squared_error(y_test,y_pred2,squared=False))"
   ]
  },
  {
   "cell_type": "markdown",
   "id": "c453cab8",
   "metadata": {},
   "source": [
    "**3. Extra Tree Regressor**"
   ]
  },
  {
   "cell_type": "code",
   "execution_count": 65,
   "id": "20ee44ac",
   "metadata": {},
   "outputs": [
    {
     "data": {
      "text/plain": [
       "ExtraTreesRegressor()"
      ]
     },
     "execution_count": 65,
     "metadata": {},
     "output_type": "execute_result"
    }
   ],
   "source": [
    "from sklearn.ensemble import ExtraTreesRegressor\n",
    "et = ExtraTreesRegressor()\n",
    "et.fit(X_train,y_train)"
   ]
  },
  {
   "cell_type": "code",
   "execution_count": 66,
   "id": "0c0054cc",
   "metadata": {},
   "outputs": [],
   "source": [
    "x_pred3 = et.predict(X_train)\n",
    "y_pred3 = et.predict(X_test)"
   ]
  },
  {
   "cell_type": "code",
   "execution_count": 67,
   "id": "1ccad9df",
   "metadata": {},
   "outputs": [
    {
     "data": {
      "text/html": [
       "<div>\n",
       "<style scoped>\n",
       "    .dataframe tbody tr th:only-of-type {\n",
       "        vertical-align: middle;\n",
       "    }\n",
       "\n",
       "    .dataframe tbody tr th {\n",
       "        vertical-align: top;\n",
       "    }\n",
       "\n",
       "    .dataframe thead th {\n",
       "        text-align: right;\n",
       "    }\n",
       "</style>\n",
       "<table border=\"1\" class=\"dataframe\">\n",
       "  <thead>\n",
       "    <tr style=\"text-align: right;\">\n",
       "      <th></th>\n",
       "      <th>actual</th>\n",
       "      <th>predicted</th>\n",
       "    </tr>\n",
       "  </thead>\n",
       "  <tbody>\n",
       "    <tr>\n",
       "      <th>2393</th>\n",
       "      <td>32667.00</td>\n",
       "      <td>27820.933837</td>\n",
       "    </tr>\n",
       "    <tr>\n",
       "      <th>28079</th>\n",
       "      <td>70352.25</td>\n",
       "      <td>57698.176579</td>\n",
       "    </tr>\n",
       "    <tr>\n",
       "      <th>31424</th>\n",
       "      <td>34824.00</td>\n",
       "      <td>47944.623936</td>\n",
       "    </tr>\n",
       "    <tr>\n",
       "      <th>93670</th>\n",
       "      <td>34365.00</td>\n",
       "      <td>45220.454246</td>\n",
       "    </tr>\n",
       "    <tr>\n",
       "      <th>80507</th>\n",
       "      <td>37107.00</td>\n",
       "      <td>35105.639127</td>\n",
       "    </tr>\n",
       "    <tr>\n",
       "      <th>...</th>\n",
       "      <td>...</td>\n",
       "      <td>...</td>\n",
       "    </tr>\n",
       "    <tr>\n",
       "      <th>133834</th>\n",
       "      <td>53619.00</td>\n",
       "      <td>59456.097135</td>\n",
       "    </tr>\n",
       "    <tr>\n",
       "      <th>178139</th>\n",
       "      <td>62964.00</td>\n",
       "      <td>33202.937313</td>\n",
       "    </tr>\n",
       "    <tr>\n",
       "      <th>125450</th>\n",
       "      <td>41610.00</td>\n",
       "      <td>60008.497459</td>\n",
       "    </tr>\n",
       "    <tr>\n",
       "      <th>147857</th>\n",
       "      <td>58940.82</td>\n",
       "      <td>29419.153329</td>\n",
       "    </tr>\n",
       "    <tr>\n",
       "      <th>17168</th>\n",
       "      <td>28656.00</td>\n",
       "      <td>27983.859836</td>\n",
       "    </tr>\n",
       "  </tbody>\n",
       "</table>\n",
       "<p>56502 rows × 2 columns</p>\n",
       "</div>"
      ],
      "text/plain": [
       "          actual     predicted\n",
       "2393    32667.00  27820.933837\n",
       "28079   70352.25  57698.176579\n",
       "31424   34824.00  47944.623936\n",
       "93670   34365.00  45220.454246\n",
       "80507   37107.00  35105.639127\n",
       "...          ...           ...\n",
       "133834  53619.00  59456.097135\n",
       "178139  62964.00  33202.937313\n",
       "125450  41610.00  60008.497459\n",
       "147857  58940.82  29419.153329\n",
       "17168   28656.00  27983.859836\n",
       "\n",
       "[56502 rows x 2 columns]"
      ]
     },
     "execution_count": 67,
     "metadata": {},
     "output_type": "execute_result"
    }
   ],
   "source": [
    "temp_3 = pd.DataFrame({'actual':y_test,'predicted':y_pred3})\n",
    "temp_3"
   ]
  },
  {
   "cell_type": "code",
   "execution_count": 68,
   "id": "dabb379d",
   "metadata": {},
   "outputs": [
    {
     "name": "stdout",
     "output_type": "stream",
     "text": [
      "Mean absolute error on training set:  7896.9874322854575\n",
      "Mean absolute error on testing set:  7907.675826905508\n",
      "Mean squared error on training set:  112934305.94502182\n",
      "Mean squared error on testing set:  113364942.56554209\n",
      "Root Mean squared error on training set:  10627.055375080241\n",
      "Root Mean squared error on testing set:  10647.297430124796\n"
     ]
    }
   ],
   "source": [
    "print(\"Mean absolute error on training set: \",metrics.mean_absolute_error(y_train,x_pred3))\n",
    "print(\"Mean absolute error on testing set: \",metrics.mean_absolute_error(y_test,y_pred3))\n",
    "print(\"Mean squared error on training set: \",metrics.mean_squared_error(y_train,x_pred3))\n",
    "print(\"Mean squared error on testing set: \",metrics.mean_squared_error(y_test,y_pred3))\n",
    "print(\"Root Mean squared error on training set: \",metrics.mean_squared_error(y_train,x_pred3,squared=False))\n",
    "print(\"Root Mean squared error on testing set: \",metrics.mean_squared_error(y_test,y_pred3,squared=False))"
   ]
  },
  {
   "cell_type": "markdown",
   "id": "7d75e62f",
   "metadata": {},
   "source": [
    "**4.Boosting**"
   ]
  },
  {
   "cell_type": "code",
   "execution_count": 70,
   "id": "d18316f4",
   "metadata": {},
   "outputs": [
    {
     "data": {
      "text/plain": [
       "XGBRegressor(base_score=0.5, booster='gbtree', colsample_bylevel=1,\n",
       "             colsample_bynode=1, colsample_bytree=0.5, eval_metric='rmse',\n",
       "             gamma=0, gpu_id=-1, importance_type='gain',\n",
       "             interaction_constraints='', learning_rate=0.01, max_delta_step=0,\n",
       "             max_depth=5, min_child_weight=1, missing=nan,\n",
       "             monotone_constraints='()', n_estimators=5000, n_jobs=4,\n",
       "             num_parallel_tree=1, random_state=1, reg_alpha=0.5, reg_lambda=1,\n",
       "             scale_pos_weight=1, subsample=0.9, tree_method='exact',\n",
       "             validate_parameters=1, verbosity=None)"
      ]
     },
     "execution_count": 70,
     "metadata": {},
     "output_type": "execute_result"
    }
   ],
   "source": [
    "from xgboost import XGBRegressor\n",
    "xgb = XGBRegressor(random_state=1,n_jobs=4,n_estimators=5000,\n",
    "                  learning_rate=0.01,subsample=0.9,\n",
    "                  max_depth=5,colsample_bytree=0.5,reg_alpha=0.5,eval_metric='rmse')\n",
    "xgb.fit(X_train,y_train)"
   ]
  },
  {
   "cell_type": "code",
   "execution_count": 71,
   "id": "d92d50b9",
   "metadata": {},
   "outputs": [],
   "source": [
    "x_pred4 = xgb.predict(X_train)\n",
    "y_pred4 = xgb.predict(X_test)"
   ]
  },
  {
   "cell_type": "code",
   "execution_count": 72,
   "id": "7405ff0f",
   "metadata": {},
   "outputs": [
    {
     "data": {
      "text/html": [
       "<div>\n",
       "<style scoped>\n",
       "    .dataframe tbody tr th:only-of-type {\n",
       "        vertical-align: middle;\n",
       "    }\n",
       "\n",
       "    .dataframe tbody tr th {\n",
       "        vertical-align: top;\n",
       "    }\n",
       "\n",
       "    .dataframe thead th {\n",
       "        text-align: right;\n",
       "    }\n",
       "</style>\n",
       "<table border=\"1\" class=\"dataframe\">\n",
       "  <thead>\n",
       "    <tr style=\"text-align: right;\">\n",
       "      <th></th>\n",
       "      <th>actual</th>\n",
       "      <th>predicted</th>\n",
       "    </tr>\n",
       "  </thead>\n",
       "  <tbody>\n",
       "    <tr>\n",
       "      <th>2393</th>\n",
       "      <td>32667.00</td>\n",
       "      <td>27786.302734</td>\n",
       "    </tr>\n",
       "    <tr>\n",
       "      <th>28079</th>\n",
       "      <td>70352.25</td>\n",
       "      <td>57562.464844</td>\n",
       "    </tr>\n",
       "    <tr>\n",
       "      <th>31424</th>\n",
       "      <td>34824.00</td>\n",
       "      <td>47959.761719</td>\n",
       "    </tr>\n",
       "    <tr>\n",
       "      <th>93670</th>\n",
       "      <td>34365.00</td>\n",
       "      <td>45258.804688</td>\n",
       "    </tr>\n",
       "    <tr>\n",
       "      <th>80507</th>\n",
       "      <td>37107.00</td>\n",
       "      <td>35091.941406</td>\n",
       "    </tr>\n",
       "    <tr>\n",
       "      <th>...</th>\n",
       "      <td>...</td>\n",
       "      <td>...</td>\n",
       "    </tr>\n",
       "    <tr>\n",
       "      <th>133834</th>\n",
       "      <td>53619.00</td>\n",
       "      <td>59427.089844</td>\n",
       "    </tr>\n",
       "    <tr>\n",
       "      <th>178139</th>\n",
       "      <td>62964.00</td>\n",
       "      <td>33239.964844</td>\n",
       "    </tr>\n",
       "    <tr>\n",
       "      <th>125450</th>\n",
       "      <td>41610.00</td>\n",
       "      <td>59964.246094</td>\n",
       "    </tr>\n",
       "    <tr>\n",
       "      <th>147857</th>\n",
       "      <td>58940.82</td>\n",
       "      <td>29419.707031</td>\n",
       "    </tr>\n",
       "    <tr>\n",
       "      <th>17168</th>\n",
       "      <td>28656.00</td>\n",
       "      <td>27932.353516</td>\n",
       "    </tr>\n",
       "  </tbody>\n",
       "</table>\n",
       "<p>56502 rows × 2 columns</p>\n",
       "</div>"
      ],
      "text/plain": [
       "          actual     predicted\n",
       "2393    32667.00  27786.302734\n",
       "28079   70352.25  57562.464844\n",
       "31424   34824.00  47959.761719\n",
       "93670   34365.00  45258.804688\n",
       "80507   37107.00  35091.941406\n",
       "...          ...           ...\n",
       "133834  53619.00  59427.089844\n",
       "178139  62964.00  33239.964844\n",
       "125450  41610.00  59964.246094\n",
       "147857  58940.82  29419.707031\n",
       "17168   28656.00  27932.353516\n",
       "\n",
       "[56502 rows x 2 columns]"
      ]
     },
     "execution_count": 72,
     "metadata": {},
     "output_type": "execute_result"
    }
   ],
   "source": [
    "temp_4 = pd.DataFrame({'actual':y_test,'predicted':y_pred4})\n",
    "temp_4"
   ]
  },
  {
   "cell_type": "code",
   "execution_count": 73,
   "id": "bce92592",
   "metadata": {},
   "outputs": [
    {
     "name": "stdout",
     "output_type": "stream",
     "text": [
      "Mean absolute error on training set:  7896.507569311508\n",
      "Mean absolute error on testing set:  7905.465110554715\n",
      "Mean squared error on training set:  112958799.46521221\n",
      "Mean squared error on testing set:  113363604.4838299\n",
      "Root Mean squared error on training set:  10628.207725915607\n",
      "Root Mean squared error on testing set:  10647.234593256124\n"
     ]
    }
   ],
   "source": [
    "print(\"Mean absolute error on training set: \",metrics.mean_absolute_error(y_train,x_pred4))\n",
    "print(\"Mean absolute error on testing set: \",metrics.mean_absolute_error(y_test,y_pred4))\n",
    "print(\"Mean squared error on training set: \",metrics.mean_squared_error(y_train,x_pred4))\n",
    "print(\"Mean squared error on testing set: \",metrics.mean_squared_error(y_test,y_pred4))\n",
    "print(\"Root Mean squared error on training set: \",metrics.mean_squared_error(y_train,x_pred4,squared=False))\n",
    "print(\"Root Mean squared error on testing set: \",metrics.mean_squared_error(y_test,y_pred4,squared=False))"
   ]
  },
  {
   "cell_type": "markdown",
   "id": "b5d591ff",
   "metadata": {},
   "source": [
    "# Submission"
   ]
  },
  {
   "cell_type": "code",
   "execution_count": 75,
   "id": "0e64fc0c",
   "metadata": {},
   "outputs": [],
   "source": [
    "test_set = df2.drop(['ID'],axis=1)\n",
    "test_set_org = test_set.copy()"
   ]
  },
  {
   "cell_type": "code",
   "execution_count": 84,
   "id": "455fc1bb",
   "metadata": {},
   "outputs": [],
   "source": [
    "predictions = le.predict(test_set_org)\n",
    "output = pd.DataFrame({'ID':df2['ID'],'Sales':predictions})\n",
    "output.to_csv('Submissions.csv',index=False)"
   ]
  },
  {
   "cell_type": "code",
   "execution_count": 81,
   "id": "c41283af",
   "metadata": {},
   "outputs": [
    {
     "data": {
      "text/plain": [
       "(22265, 1)"
      ]
     },
     "execution_count": 81,
     "metadata": {},
     "output_type": "execute_result"
    }
   ],
   "source": [
    "pd.DataFrame(predictions).shape"
   ]
  }
 ],
 "metadata": {
  "kernelspec": {
   "display_name": "Python 3",
   "language": "python",
   "name": "python3"
  },
  "language_info": {
   "codemirror_mode": {
    "name": "ipython",
    "version": 3
   },
   "file_extension": ".py",
   "mimetype": "text/x-python",
   "name": "python",
   "nbconvert_exporter": "python",
   "pygments_lexer": "ipython3",
   "version": "3.8.8"
  }
 },
 "nbformat": 4,
 "nbformat_minor": 5
}
